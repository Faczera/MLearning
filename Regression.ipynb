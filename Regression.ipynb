{
  "nbformat": 4,
  "nbformat_minor": 0,
  "metadata": {
    "colab": {
      "name": "Regression.ipynb",
      "provenance": [],
      "authorship_tag": "ABX9TyMplXHWarHvwrKzEhkksOCr",
      "include_colab_link": true
    },
    "kernelspec": {
      "name": "python3",
      "display_name": "Python 3"
    }
  },
  "cells": [
    {
      "cell_type": "markdown",
      "metadata": {
        "id": "view-in-github",
        "colab_type": "text"
      },
      "source": [
        "<a href=\"https://colab.research.google.com/github/Faczera/MLearning/blob/master/Regression.ipynb\" target=\"_parent\"><img src=\"https://colab.research.google.com/assets/colab-badge.svg\" alt=\"Open In Colab\"/></a>"
      ]
    },
    {
      "cell_type": "markdown",
      "metadata": {
        "id": "gKBCJWxHdHMC",
        "colab_type": "text"
      },
      "source": [
        "0050015264 - Vitor de Souza"
      ]
    },
    {
      "cell_type": "code",
      "metadata": {
        "id": "s5SyNBhrcwoA",
        "colab_type": "code",
        "colab": {}
      },
      "source": [
        "import pandas as pd\n",
        "from sklearn.datasets import load_boston\n",
        "\n",
        "dataset = load_boston()\n",
        "data = pd.DataFrame(dataset.data)\n",
        "data.columns = dataset.feature_names"
      ],
      "execution_count": 0,
      "outputs": []
    },
    {
      "cell_type": "markdown",
      "metadata": {
        "id": "3YMiYEnKdChN",
        "colab_type": "text"
      },
      "source": [
        "1 - Mostre os primeiros registros da tabela"
      ]
    },
    {
      "cell_type": "code",
      "metadata": {
        "id": "c35KYzxXdQl5",
        "colab_type": "code",
        "outputId": "39981f4f-e0dc-4a3f-a4ee-30ec6ccc74f3",
        "colab": {
          "base_uri": "https://localhost:8080/",
          "height": 204
        }
      },
      "source": [
        "data.head()"
      ],
      "execution_count": 0,
      "outputs": [
        {
          "output_type": "execute_result",
          "data": {
            "text/html": [
              "<div>\n",
              "<style scoped>\n",
              "    .dataframe tbody tr th:only-of-type {\n",
              "        vertical-align: middle;\n",
              "    }\n",
              "\n",
              "    .dataframe tbody tr th {\n",
              "        vertical-align: top;\n",
              "    }\n",
              "\n",
              "    .dataframe thead th {\n",
              "        text-align: right;\n",
              "    }\n",
              "</style>\n",
              "<table border=\"1\" class=\"dataframe\">\n",
              "  <thead>\n",
              "    <tr style=\"text-align: right;\">\n",
              "      <th></th>\n",
              "      <th>CRIM</th>\n",
              "      <th>ZN</th>\n",
              "      <th>INDUS</th>\n",
              "      <th>CHAS</th>\n",
              "      <th>NOX</th>\n",
              "      <th>RM</th>\n",
              "      <th>AGE</th>\n",
              "      <th>DIS</th>\n",
              "      <th>RAD</th>\n",
              "      <th>TAX</th>\n",
              "      <th>PTRATIO</th>\n",
              "      <th>B</th>\n",
              "      <th>LSTAT</th>\n",
              "    </tr>\n",
              "  </thead>\n",
              "  <tbody>\n",
              "    <tr>\n",
              "      <th>0</th>\n",
              "      <td>0.00632</td>\n",
              "      <td>18.0</td>\n",
              "      <td>2.31</td>\n",
              "      <td>0.0</td>\n",
              "      <td>0.538</td>\n",
              "      <td>6.575</td>\n",
              "      <td>65.2</td>\n",
              "      <td>4.0900</td>\n",
              "      <td>1.0</td>\n",
              "      <td>296.0</td>\n",
              "      <td>15.3</td>\n",
              "      <td>396.90</td>\n",
              "      <td>4.98</td>\n",
              "    </tr>\n",
              "    <tr>\n",
              "      <th>1</th>\n",
              "      <td>0.02731</td>\n",
              "      <td>0.0</td>\n",
              "      <td>7.07</td>\n",
              "      <td>0.0</td>\n",
              "      <td>0.469</td>\n",
              "      <td>6.421</td>\n",
              "      <td>78.9</td>\n",
              "      <td>4.9671</td>\n",
              "      <td>2.0</td>\n",
              "      <td>242.0</td>\n",
              "      <td>17.8</td>\n",
              "      <td>396.90</td>\n",
              "      <td>9.14</td>\n",
              "    </tr>\n",
              "    <tr>\n",
              "      <th>2</th>\n",
              "      <td>0.02729</td>\n",
              "      <td>0.0</td>\n",
              "      <td>7.07</td>\n",
              "      <td>0.0</td>\n",
              "      <td>0.469</td>\n",
              "      <td>7.185</td>\n",
              "      <td>61.1</td>\n",
              "      <td>4.9671</td>\n",
              "      <td>2.0</td>\n",
              "      <td>242.0</td>\n",
              "      <td>17.8</td>\n",
              "      <td>392.83</td>\n",
              "      <td>4.03</td>\n",
              "    </tr>\n",
              "    <tr>\n",
              "      <th>3</th>\n",
              "      <td>0.03237</td>\n",
              "      <td>0.0</td>\n",
              "      <td>2.18</td>\n",
              "      <td>0.0</td>\n",
              "      <td>0.458</td>\n",
              "      <td>6.998</td>\n",
              "      <td>45.8</td>\n",
              "      <td>6.0622</td>\n",
              "      <td>3.0</td>\n",
              "      <td>222.0</td>\n",
              "      <td>18.7</td>\n",
              "      <td>394.63</td>\n",
              "      <td>2.94</td>\n",
              "    </tr>\n",
              "    <tr>\n",
              "      <th>4</th>\n",
              "      <td>0.06905</td>\n",
              "      <td>0.0</td>\n",
              "      <td>2.18</td>\n",
              "      <td>0.0</td>\n",
              "      <td>0.458</td>\n",
              "      <td>7.147</td>\n",
              "      <td>54.2</td>\n",
              "      <td>6.0622</td>\n",
              "      <td>3.0</td>\n",
              "      <td>222.0</td>\n",
              "      <td>18.7</td>\n",
              "      <td>396.90</td>\n",
              "      <td>5.33</td>\n",
              "    </tr>\n",
              "  </tbody>\n",
              "</table>\n",
              "</div>"
            ],
            "text/plain": [
              "      CRIM    ZN  INDUS  CHAS    NOX  ...  RAD    TAX  PTRATIO       B  LSTAT\n",
              "0  0.00632  18.0   2.31   0.0  0.538  ...  1.0  296.0     15.3  396.90   4.98\n",
              "1  0.02731   0.0   7.07   0.0  0.469  ...  2.0  242.0     17.8  396.90   9.14\n",
              "2  0.02729   0.0   7.07   0.0  0.469  ...  2.0  242.0     17.8  392.83   4.03\n",
              "3  0.03237   0.0   2.18   0.0  0.458  ...  3.0  222.0     18.7  394.63   2.94\n",
              "4  0.06905   0.0   2.18   0.0  0.458  ...  3.0  222.0     18.7  396.90   5.33\n",
              "\n",
              "[5 rows x 13 columns]"
            ]
          },
          "metadata": {
            "tags": []
          },
          "execution_count": 2
        }
      ]
    },
    {
      "cell_type": "markdown",
      "metadata": {
        "id": "u4r9j7XbdYY7",
        "colab_type": "text"
      },
      "source": [
        "2-Observações(linhas) possui nessa base? Quantas Colunas?\n"
      ]
    },
    {
      "cell_type": "code",
      "metadata": {
        "id": "5-Ya0z29ddM3",
        "colab_type": "code",
        "outputId": "84f5b032-eabc-4977-e7fd-c49129da4dbd",
        "colab": {
          "base_uri": "https://localhost:8080/",
          "height": 34
        }
      },
      "source": [
        "data.shape"
      ],
      "execution_count": 0,
      "outputs": [
        {
          "output_type": "execute_result",
          "data": {
            "text/plain": [
              "(506, 13)"
            ]
          },
          "metadata": {
            "tags": []
          },
          "execution_count": 3
        }
      ]
    },
    {
      "cell_type": "markdown",
      "metadata": {
        "id": "AQFMrebVdh2U",
        "colab_type": "text"
      },
      "source": [
        "3-Quantas Features Possui?\n"
      ]
    },
    {
      "cell_type": "code",
      "metadata": {
        "id": "LJRmavxsdje9",
        "colab_type": "code",
        "outputId": "553422aa-0b22-42b5-fd2d-d1d319195c8b",
        "colab": {
          "base_uri": "https://localhost:8080/",
          "height": 34
        }
      },
      "source": [
        "len(dataset.feature_names)\n"
      ],
      "execution_count": 0,
      "outputs": [
        {
          "output_type": "execute_result",
          "data": {
            "text/plain": [
              "13"
            ]
          },
          "metadata": {
            "tags": []
          },
          "execution_count": 4
        }
      ]
    },
    {
      "cell_type": "markdown",
      "metadata": {
        "id": "mJpesEIedp26",
        "colab_type": "text"
      },
      "source": [
        "4-Qual é o campo Target(respostas) dessa base?\n"
      ]
    },
    {
      "cell_type": "code",
      "metadata": {
        "id": "oOq-1K2sdqZg",
        "colab_type": "code",
        "outputId": "f63c621f-0c93-4747-ded9-d00f6d5b3640",
        "colab": {
          "base_uri": "https://localhost:8080/",
          "height": 255
        }
      },
      "source": [
        "data['MEDV'] = dataset.target\n",
        "data.head\n"
      ],
      "execution_count": 0,
      "outputs": [
        {
          "output_type": "execute_result",
          "data": {
            "text/plain": [
              "<bound method NDFrame.head of         CRIM    ZN  INDUS  CHAS    NOX  ...    TAX  PTRATIO       B  LSTAT  MEDV\n",
              "0    0.00632  18.0   2.31   0.0  0.538  ...  296.0     15.3  396.90   4.98  24.0\n",
              "1    0.02731   0.0   7.07   0.0  0.469  ...  242.0     17.8  396.90   9.14  21.6\n",
              "2    0.02729   0.0   7.07   0.0  0.469  ...  242.0     17.8  392.83   4.03  34.7\n",
              "3    0.03237   0.0   2.18   0.0  0.458  ...  222.0     18.7  394.63   2.94  33.4\n",
              "4    0.06905   0.0   2.18   0.0  0.458  ...  222.0     18.7  396.90   5.33  36.2\n",
              "..       ...   ...    ...   ...    ...  ...    ...      ...     ...    ...   ...\n",
              "501  0.06263   0.0  11.93   0.0  0.573  ...  273.0     21.0  391.99   9.67  22.4\n",
              "502  0.04527   0.0  11.93   0.0  0.573  ...  273.0     21.0  396.90   9.08  20.6\n",
              "503  0.06076   0.0  11.93   0.0  0.573  ...  273.0     21.0  396.90   5.64  23.9\n",
              "504  0.10959   0.0  11.93   0.0  0.573  ...  273.0     21.0  393.45   6.48  22.0\n",
              "505  0.04741   0.0  11.93   0.0  0.573  ...  273.0     21.0  396.90   7.88  11.9\n",
              "\n",
              "[506 rows x 14 columns]>"
            ]
          },
          "metadata": {
            "tags": []
          },
          "execution_count": 11
        }
      ]
    },
    {
      "cell_type": "markdown",
      "metadata": {
        "id": "7peWwGNGd__y",
        "colab_type": "text"
      },
      "source": [
        "5-Usando a biblioteca de visualização seaborn, plote o gráfico que mostra a relação entre as features e responses\n"
      ]
    },
    {
      "cell_type": "code",
      "metadata": {
        "id": "hzvp5zYAeAlW",
        "colab_type": "code",
        "colab": {}
      },
      "source": [
        "import seaborn as sns\n",
        "\n",
        "%matplotlib inline\n"
      ],
      "execution_count": 0,
      "outputs": []
    },
    {
      "cell_type": "code",
      "metadata": {
        "id": "vmWsT0_jeLMx",
        "colab_type": "code",
        "outputId": "f8b61473-8ea7-4526-c59d-0e1176c66316",
        "colab": {
          "base_uri": "https://localhost:8080/",
          "height": 548
        }
      },
      "source": [
        "sns.pairplot(data, x_vars=['ZN','INDUS','NOX'], y_vars='MEDV', height=7, aspect=0.7, kind='reg')\n"
      ],
      "execution_count": 0,
      "outputs": [
        {
          "output_type": "execute_result",
          "data": {
            "text/plain": [
              "<seaborn.axisgrid.PairGrid at 0x7f18fb8fdc88>"
            ]
          },
          "metadata": {
            "tags": []
          },
          "execution_count": 12
        },
        {
          "output_type": "display_data",
          "data": {
            "image/png": "[encoded data removed]",
            "text/plain": [
              "<Figure size 1058.4x504 with 3 Axes>"
            ]
          },
          "metadata": {
            "tags": [],
            "needs_background": "light"
          }
        }
      ]
    },
    {
      "cell_type": "markdown",
      "metadata": {
        "id": "vLVjh1L7ekxy",
        "colab_type": "text"
      },
      "source": [
        "6-Prepare X e y usando o pandas\n"
      ]
    },
    {
      "cell_type": "code",
      "metadata": {
        "id": "8McmJHVUelsY",
        "colab_type": "code",
        "outputId": "43c962d7-164b-46eb-dcd4-dcb95aba6765",
        "colab": {
          "base_uri": "https://localhost:8080/",
          "height": 119
        }
      },
      "source": [
        "X = data[data.columns]\n",
        "y = data['MEDV']\n",
        "y = data.MEDV\n",
        "X.head()\n",
        "y.head()"
      ],
      "execution_count": 0,
      "outputs": [
        {
          "output_type": "execute_result",
          "data": {
            "text/plain": [
              "0    24.0\n",
              "1    21.6\n",
              "2    34.7\n",
              "3    33.4\n",
              "4    36.2\n",
              "Name: MEDV, dtype: float64"
            ]
          },
          "metadata": {
            "tags": []
          },
          "execution_count": 13
        }
      ]
    },
    {
      "cell_type": "code",
      "metadata": {
        "id": "bvBO69A8ezEj",
        "colab_type": "code",
        "colab": {}
      },
      "source": [
        "7-Qual o tipo de dados de X e y?\n"
      ],
      "execution_count": 0,
      "outputs": []
    },
    {
      "cell_type": "code",
      "metadata": {
        "id": "LVwMfZ2re1E-",
        "colab_type": "code",
        "outputId": "168135b4-0880-4cf1-b211-bb856412d157",
        "colab": {
          "base_uri": "https://localhost:8080/",
          "height": 51
        }
      },
      "source": [
        "print(type(X))\n",
        "print(type(y))"
      ],
      "execution_count": 0,
      "outputs": [
        {
          "output_type": "stream",
          "text": [
            "<class 'pandas.core.frame.DataFrame'>\n",
            "<class 'pandas.core.series.Series'>\n"
          ],
          "name": "stdout"
        }
      ]
    },
    {
      "cell_type": "markdown",
      "metadata": {
        "id": "WJSXfkGBe681",
        "colab_type": "text"
      },
      "source": [
        "8-Sobre o que se trata essa base de dados? Que tipo de informações ela guarda?\n",
        "\n",
        "Dados Imobiliários da cidade de Boston."
      ]
    },
    {
      "cell_type": "markdown",
      "metadata": {
        "id": "dHhDPiVLfAaG",
        "colab_type": "text"
      },
      "source": [
        "9-Gere um X de treino e y de treino, X de teste e y da base (Split Train/Test)\n"
      ]
    },
    {
      "cell_type": "code",
      "metadata": {
        "id": "PYw9mL9tfEdY",
        "colab_type": "code",
        "colab": {}
      },
      "source": [
        "from sklearn.model_selection import train_test_split\n",
        "X_train, X_test, y_train, y_test = train_test_split(X, y, random_state=1)"
      ],
      "execution_count": 0,
      "outputs": []
    },
    {
      "cell_type": "markdown",
      "metadata": {
        "id": "fjuPjFnRfJhc",
        "colab_type": "text"
      },
      "source": [
        "10-Qual o percentual gerado para criar o conjunto de treino e o conjunto de teste?\n"
      ]
    },
    {
      "cell_type": "code",
      "metadata": {
        "id": "9PzqtVdhfLC1",
        "colab_type": "code",
        "outputId": "478ab87b-f0c6-49ce-b1c6-c775c5be445f",
        "colab": {
          "base_uri": "https://localhost:8080/",
          "height": 85
        }
      },
      "source": [
        "print(X_train.shape)\n",
        "print(X_test.shape)\n",
        "print(y_train.shape)\n",
        "print(y_test.shape)"
      ],
      "execution_count": 0,
      "outputs": [
        {
          "output_type": "stream",
          "text": [
            "(379, 14)\n",
            "(127, 14)\n",
            "(379,)\n",
            "(127,)\n"
          ],
          "name": "stdout"
        }
      ]
    },
    {
      "cell_type": "markdown",
      "metadata": {
        "id": "VTZenHj7fTVi",
        "colab_type": "text"
      },
      "source": [
        "11-Usando modelo de regressão linear do sklearn, treine o modelo com o X e y de treino\n"
      ]
    },
    {
      "cell_type": "code",
      "metadata": {
        "id": "zlJICqQCfUt1",
        "colab_type": "code",
        "outputId": "092098e5-519d-42f0-d720-291d3af04b51",
        "colab": {
          "base_uri": "https://localhost:8080/",
          "height": 34
        }
      },
      "source": [
        "from sklearn.linear_model import LinearRegression\n",
        "\n",
        "linreg = LinearRegression()\n",
        "\n",
        "linreg.fit(X_train, y_train)"
      ],
      "execution_count": 0,
      "outputs": [
        {
          "output_type": "execute_result",
          "data": {
            "text/plain": [
              "LinearRegression(copy_X=True, fit_intercept=True, n_jobs=None, normalize=False)"
            ]
          },
          "metadata": {
            "tags": []
          },
          "execution_count": 18
        }
      ]
    },
    {
      "cell_type": "markdown",
      "metadata": {
        "id": "6xjl7RoMfb_w",
        "colab_type": "text"
      },
      "source": [
        "12-Imprima os atributos de \"intercept\" e \"coefficients\" que foram gerados\n"
      ]
    },
    {
      "cell_type": "code",
      "metadata": {
        "id": "iZMpVGZXfdYz",
        "colab_type": "code",
        "outputId": "2287aaa5-ccaf-4177-e679-48c487e43bfa",
        "colab": {
          "base_uri": "https://localhost:8080/",
          "height": 102
        }
      },
      "source": [
        "print(linreg.intercept_)\n",
        "print(linreg.coef_)"
      ],
      "execution_count": 0,
      "outputs": [
        {
          "output_type": "stream",
          "text": [
            "1.5276668818842154e-13\n",
            "[ 5.12038746e-16  6.38378239e-16  2.14531084e-15 -1.47284757e-14\n",
            " -2.23203143e-14 -1.11235755e-15 -1.53089347e-16 -5.47901568e-16\n",
            " -2.17924637e-16 -1.00613962e-16 -3.01679254e-16 -2.77555756e-16\n",
            " -1.43982049e-16  1.00000000e+00]\n"
          ],
          "name": "stdout"
        }
      ]
    },
    {
      "cell_type": "markdown",
      "metadata": {
        "id": "Et1ib-Ohfie1",
        "colab_type": "text"
      },
      "source": [
        "13-imprima o par \"feature names\" com os \"coefficients\"\n"
      ]
    },
    {
      "cell_type": "code",
      "metadata": {
        "id": "RgLA-wlIflqX",
        "colab_type": "code",
        "outputId": "e24c0fa2-c812-46b3-df9c-add9324a04ab",
        "colab": {
          "base_uri": "https://localhost:8080/",
          "height": 238
        }
      },
      "source": [
        "feature_cols = dataset.feature_names\n",
        "list(zip(feature_cols, linreg.coef_))"
      ],
      "execution_count": 0,
      "outputs": [
        {
          "output_type": "execute_result",
          "data": {
            "text/plain": [
              "[('CRIM', 5.120387459956797e-16),\n",
              " ('ZN', 6.38378239159465e-16),\n",
              " ('INDUS', 2.1453108386970676e-15),\n",
              " ('CHAS', -1.472847570223616e-14),\n",
              " ('NOX', -2.2320314270896785e-14),\n",
              " ('RM', -1.1123575476522374e-15),\n",
              " ('AGE', -1.5308934675495323e-16),\n",
              " ('DIS', -5.479015678655497e-16),\n",
              " ('RAD', -2.179246366695864e-16),\n",
              " ('TAX', -1.0061396160665481e-16),\n",
              " ('PTRATIO', -3.016792544940916e-16),\n",
              " ('B', -2.7755575615628914e-16),\n",
              " ('LSTAT', -1.43982048506075e-16)]"
            ]
          },
          "metadata": {
            "tags": []
          },
          "execution_count": 20
        }
      ]
    },
    {
      "cell_type": "markdown",
      "metadata": {
        "id": "D-75-ogFfqY2",
        "colab_type": "text"
      },
      "source": [
        "14-Faça uma previsão usando o conjunto de X de teste\n"
      ]
    },
    {
      "cell_type": "code",
      "metadata": {
        "id": "QQ7nSGlufq2H",
        "colab_type": "code",
        "outputId": "75e4d568-f442-41a2-ee98-3cd28742d49a",
        "colab": {
          "base_uri": "https://localhost:8080/",
          "height": 187
        }
      },
      "source": [
        "y_pred = linreg.predict(X_test)\n",
        "print(y_pred)"
      ],
      "execution_count": 0,
      "outputs": [
        {
          "output_type": "stream",
          "text": [
            "[28.2 23.9 16.6 22.  20.8 23.  27.9 14.5 21.5 22.6 23.7 31.2 19.3 19.4\n",
            " 19.4 27.9 13.9 50.  24.1 14.6 16.2 15.6 23.8 25.  23.5  8.3 13.5 17.5\n",
            " 43.1 11.5 24.1 18.5 50.  12.6 19.8 24.5 14.9 36.2 11.9 19.1 22.6 20.7\n",
            " 30.1 13.3 14.6  8.4 50.  12.7 25.  18.6 29.8 22.2 28.7 23.8  8.1 22.2\n",
            "  6.3 22.1 17.5 48.3 16.7 26.6  8.5 14.5 23.7 37.2 41.7 16.5 21.7 22.7\n",
            " 23.  10.5 21.9 21.  20.4 21.8 50.  22.  23.3 37.3 18.  19.2 34.9 13.4\n",
            " 22.9 22.5 13.  24.6 18.3 18.1 23.9 50.  13.6 22.9 10.9 18.9 22.4 22.9\n",
            " 44.8 21.7 10.2 15.4 25.3 23.3  7.2 21.2 11.7 27.  29.6 26.5 43.5 23.6\n",
            " 11.  33.4 36.  36.4 19.  20.2 34.9 50.  19.3 14.9 26.6 19.9 24.8 21.2\n",
            " 23.9]\n"
          ],
          "name": "stdout"
        }
      ]
    },
    {
      "cell_type": "markdown",
      "metadata": {
        "id": "OHcLKO7ifziX",
        "colab_type": "text"
      },
      "source": [
        "15-Mostre a margem de erro, usando o método \"Root Mean Squared Error (RMSE)\n",
        "\n"
      ]
    },
    {
      "cell_type": "code",
      "metadata": {
        "id": "mesNx2HIf2Ui",
        "colab_type": "code",
        "outputId": "8da25c95-8ce4-46b9-bae1-78cd9ed96eb3",
        "colab": {
          "base_uri": "https://localhost:8080/",
          "height": 51
        }
      },
      "source": [
        "true = [100, 50, 30, 20]\n",
        "pred = [90, 50, 50, 30]\n",
        "\n",
        "print((10 + 0 + 20 + 10)/4.)\n",
        "\n",
        "from sklearn import metrics\n",
        "print(metrics.mean_absolute_error(true, pred))"
      ],
      "execution_count": 0,
      "outputs": [
        {
          "output_type": "stream",
          "text": [
            "10.0\n",
            "10.0\n"
          ],
          "name": "stdout"
        }
      ]
    }
  ]
}